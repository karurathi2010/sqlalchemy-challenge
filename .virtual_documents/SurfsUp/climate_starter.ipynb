%matplotlib inline
from matplotlib import style
style.use('fivethirtyeight')
import matplotlib.pyplot as plt


import numpy as np
import pandas as pd
import datetime as dt
from datetime import datetime,timedelta





# Python SQL toolkit and Object Relational Mapper
import sqlalchemy
from sqlalchemy.ext.automap import automap_base
from sqlalchemy.orm import Session
from sqlalchemy import create_engine, func



# create engine to hawaii.sqlite
engine = create_engine("sqlite:///Resources/hawaii.sqlite")


# reflect an existing database into a new model
Base=automap_base()

# reflect the tables
Base.prepare(autoload_with=engine)



# View all of the classes that automap found
Base.classes.keys()


# Save references to each table
Measurement=Base.classes.measurement
Station=Base.classes.station


# Create our session (link) from Python to the DB
session = Session(engine)





# Find the most recent date in the data set.
recent_date=session.query(func.max(Measurement.date)).first()
recent_date



# Design a query to retrieve the last 12 months of precipitation data and plot the results. 
# Starting from the most recent data point in the database. 
recent_date=session.query(func.max(Measurement.date)).first()
# Calculate the date one year from the last date in data set.
date_oneyear_ago=dt.date(2017,8,23)-dt.timedelta(days=365)

# Perform a query to retrieve the data and precipitation scores
precipitation=session.query(Measurement.prcp,Measurement.date).filter(Measurement.date>=date_oneyear_ago).all()

# Save the query results as a Pandas DataFrame. Explicitly set the column names
precipitation_df=pd.DataFrame(precipitation,columns=['Precipitation','Date'])
precipitation_df.dropna()
# Sort the dataframe by date
precipitation_df.sort_values(['Date'],inplace=True)
# Use Pandas Plotting with Matplotlib to plot the data
precipitation_df.plot(x='Date',y='Precipitation')
plt.xticks(rotation=90)
plt.ylabel("Inches")
plt.title("Precipitation data of last 12 months")
plt.tight_layout
plt.show()



# Use Pandas to calculate the summary statistics for the precipitation data

count=precipitation_df['Precipitation'].count()
mean=precipitation_df['Precipitation'].mean()
std=precipitation_df['Precipitation'].std()
min=precipitation_df['Precipitation'].min()
qrt1=precipitation_df['Precipitation'].quantile([0.25])
qrt2=precipitation_df['Precipitation'].quantile([0.5])
qrt3=precipitation_df['Precipitation'].quantile([0.75])
max=precipitation_df['Precipitation'].max()
summary_statistics=pd.DataFrame({"count":[count],
                                 "mean":[mean],
                                 "std":[std],
                                 "min":[min],
                                 "25%":qrt1.values,
                                 "50%":qrt2.values,
                                 "75%":qrt3.values,
                                 "max":[max]
                                })
summary_statistics=summary_statistics.T
summary_statistics.columns=['precipitation']
summary_statistics





# Design a query to calculate the total number of stations in the dataset
total_station=session.query(func.count(Station.station)).all()
total_station


# Design a query to find the most active stations (i.e. which stations have the most rows?)
# List the stations and their counts in descending order.
active_station=session.query(Measurement.station,func.count(Measurement.station)).group_by(Measurement.station).order_by(func.count(Measurement.station).desc()).all()
active_station


# Using the most active station id from the previous query, calculate the lowest, highest, and average temperature.
station_temp=session.query(func.min(Measurement.tobs),func.max(Measurement.tobs),func.avg(Measurement.tobs)).filter(Measurement.station== active_station[0][0]).all()
station_temp


# Using the most active station id
# Query the last 12 months of temperature observation data for this station and plot the results as a histogram
latest_date=session.query(func.max(Measurement.date)).filter(Measurement.station== active_station[0][0]).first()
latest_date
stndate_oneyear_ago=dt.date(2017,8,18)-dt.timedelta(days=365)
stndate_oneyear_ago
year_temp=session.query(Measurement.tobs).filter(Measurement.station== active_station[0][0]).filter(Measurement.date>=stndate_oneyear_ago).all()
df=pd.DataFrame(year_temp,columns=['tobs'])
df.plot.hist(bins=12)
plt.xlabel("Temperature")
plt.title("Last 12 months temperature of USC00519281 station")
plt.show()





# Close Session
session.close()






